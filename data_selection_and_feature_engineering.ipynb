{
  "nbformat": 4,
  "nbformat_minor": 0,
  "metadata": {
    "colab": {
      "name": "data selection and feature engineering",
      "provenance": [],
      "collapsed_sections": [],
      "machine_shape": "hm",
      "authorship_tag": "ABX9TyMUGDYPENnTL8eC1Xonkko+",
      "include_colab_link": true
    },
    "kernelspec": {
      "name": "python3",
      "display_name": "Python 3"
    }
  },
  "cells": [
    {
      "cell_type": "markdown",
      "metadata": {
        "id": "view-in-github",
        "colab_type": "text"
      },
      "source": [
        "<a href=\"https://colab.research.google.com/github/yi1982/try/blob/master/data_selection_and_feature_engineering.ipynb\" target=\"_parent\"><img src=\"https://colab.research.google.com/assets/colab-badge.svg\" alt=\"Open In Colab\"/></a>"
      ]
    },
    {
      "cell_type": "code",
      "metadata": {
        "id": "TwTt0dDxjj4O",
        "colab_type": "code",
        "colab": {}
      },
      "source": [
        "#import pandas\n",
        "import pandas as pd\n",
        "#import numpy\n",
        "import numpy as np\n",
        "#import matplotlib\n",
        "import matplotlib.pyplot as plt\n",
        "#import seaborn\n",
        "import seaborn as sns\n",
        "#import scipy.stats\n",
        "import scipy.stats as stats\n",
        "#import reduce\n",
        "from functools import reduce\n",
        "import random\n",
        "from sklearn.model_selection import train_test_split"
      ],
      "execution_count": null,
      "outputs": []
    },
    {
      "cell_type": "code",
      "metadata": {
        "id": "oNlEf83aU0ar",
        "colab_type": "code",
        "colab": {}
      },
      "source": [
        "from google.colab import drive\n",
        "drive.mount('/content/drive')"
      ],
      "execution_count": null,
      "outputs": []
    },
    {
      "cell_type": "code",
      "metadata": {
        "id": "n3Vn2ND4lWif",
        "colab_type": "code",
        "colab": {}
      },
      "source": [
        "#set path and datatype\n",
        "path = '/content/drive/My Drive/Colab Notebooks/data/'\n",
        "\n",
        "data_dtype = {\n",
        "    'order_id': np.int32,\n",
        "    'user_id': np.int32,\n",
        "    'eval_set': 'category',\n",
        "    'order_number': np.int8,\n",
        "    'order_dow': np.int8,\n",
        "    'order_hour_of_day': np.int8,\n",
        "    'days_since_prior_order': np.float16,\n",
        "    'product_id': np.int32,\n",
        "    'add_to_cart_order': np.int8,\n",
        "    'reordered': np.int8\n",
        "}"
      ],
      "execution_count": null,
      "outputs": []
    },
    {
      "cell_type": "code",
      "metadata": {
        "id": "U8v8oJH06Veo",
        "colab_type": "code",
        "colab": {}
      },
      "source": [
        "aisles = pd.read_csv(path + 'aisles.csv')\n",
        "departments = pd.read_csv(path + 'departments.csv')\n",
        "products = pd.read_csv(path + 'products.csv')"
      ],
      "execution_count": null,
      "outputs": []
    },
    {
      "cell_type": "code",
      "metadata": {
        "id": "ia8dtifft88E",
        "colab_type": "code",
        "colab": {}
      },
      "source": [
        "orders = pd.read_csv(path + 'orders.csv',dtype=data_dtype)"
      ],
      "execution_count": null,
      "outputs": []
    },
    {
      "cell_type": "code",
      "metadata": {
        "id": "aWp22RwPMa8o",
        "colab_type": "code",
        "colab": {
          "base_uri": "https://localhost:8080/",
          "height": 147
        },
        "outputId": "1e50cba4-519d-4d46-c185-d10d20547785"
      },
      "source": [
        "orders.isna().sum() # one NA for each user 206209 NA,keep NA for now"
      ],
      "execution_count": null,
      "outputs": [
        {
          "output_type": "execute_result",
          "data": {
            "text/plain": [
              "order_id                       0\n",
              "user_id                        0\n",
              "eval_set                       0\n",
              "order_number                   0\n",
              "order_dow                      0\n",
              "order_hour_of_day              0\n",
              "days_since_prior_order    206209\n",
              "dtype: int64"
            ]
          },
          "metadata": {
            "tags": []
          },
          "execution_count": 10
        }
      ]
    },
    {
      "cell_type": "code",
      "metadata": {
        "id": "r6LODX_UxpSh",
        "colab_type": "code",
        "colab": {}
      },
      "source": [
        "order_products_train = pd.read_csv(path + 'order_products__train.csv',dtype=data_dtype)"
      ],
      "execution_count": null,
      "outputs": []
    },
    {
      "cell_type": "code",
      "metadata": {
        "id": "fI8hYVbA0SH_",
        "colab_type": "code",
        "colab": {}
      },
      "source": [
        "order_products_prior = pd.read_csv(path + 'order_products__prior.csv',dtype=data_dtype)"
      ],
      "execution_count": null,
      "outputs": []
    },
    {
      "cell_type": "code",
      "metadata": {
        "id": "sR6hCR1Q2BzU",
        "colab_type": "code",
        "colab": {
          "base_uri": "https://localhost:8080/",
          "height": 191
        },
        "outputId": "37ecf5d3-6141-429e-e5e3-0388b315a8e3"
      },
      "source": [
        "#merge orders[orders['eval_set'] == 'prior'] and order_products_prior to get products ordering information in prior orders\n",
        "prior_products = pd.merge(orders[orders['eval_set'] == 'prior'],\n",
        "                    order_products_prior,on='order_id')\n",
        "prior_products.head()"
      ],
      "execution_count": null,
      "outputs": [
        {
          "output_type": "execute_result",
          "data": {
            "text/html": [
              "<div>\n",
              "<style scoped>\n",
              "    .dataframe tbody tr th:only-of-type {\n",
              "        vertical-align: middle;\n",
              "    }\n",
              "\n",
              "    .dataframe tbody tr th {\n",
              "        vertical-align: top;\n",
              "    }\n",
              "\n",
              "    .dataframe thead th {\n",
              "        text-align: right;\n",
              "    }\n",
              "</style>\n",
              "<table border=\"1\" class=\"dataframe\">\n",
              "  <thead>\n",
              "    <tr style=\"text-align: right;\">\n",
              "      <th></th>\n",
              "      <th>order_id</th>\n",
              "      <th>user_id</th>\n",
              "      <th>eval_set</th>\n",
              "      <th>order_number</th>\n",
              "      <th>order_dow</th>\n",
              "      <th>order_hour_of_day</th>\n",
              "      <th>days_since_prior_order</th>\n",
              "      <th>product_id</th>\n",
              "      <th>add_to_cart_order</th>\n",
              "      <th>reordered</th>\n",
              "    </tr>\n",
              "  </thead>\n",
              "  <tbody>\n",
              "    <tr>\n",
              "      <th>0</th>\n",
              "      <td>2539329</td>\n",
              "      <td>1</td>\n",
              "      <td>prior</td>\n",
              "      <td>1</td>\n",
              "      <td>2</td>\n",
              "      <td>8</td>\n",
              "      <td>NaN</td>\n",
              "      <td>196</td>\n",
              "      <td>1</td>\n",
              "      <td>0</td>\n",
              "    </tr>\n",
              "    <tr>\n",
              "      <th>1</th>\n",
              "      <td>2539329</td>\n",
              "      <td>1</td>\n",
              "      <td>prior</td>\n",
              "      <td>1</td>\n",
              "      <td>2</td>\n",
              "      <td>8</td>\n",
              "      <td>NaN</td>\n",
              "      <td>14084</td>\n",
              "      <td>2</td>\n",
              "      <td>0</td>\n",
              "    </tr>\n",
              "    <tr>\n",
              "      <th>2</th>\n",
              "      <td>2539329</td>\n",
              "      <td>1</td>\n",
              "      <td>prior</td>\n",
              "      <td>1</td>\n",
              "      <td>2</td>\n",
              "      <td>8</td>\n",
              "      <td>NaN</td>\n",
              "      <td>12427</td>\n",
              "      <td>3</td>\n",
              "      <td>0</td>\n",
              "    </tr>\n",
              "    <tr>\n",
              "      <th>3</th>\n",
              "      <td>2539329</td>\n",
              "      <td>1</td>\n",
              "      <td>prior</td>\n",
              "      <td>1</td>\n",
              "      <td>2</td>\n",
              "      <td>8</td>\n",
              "      <td>NaN</td>\n",
              "      <td>26088</td>\n",
              "      <td>4</td>\n",
              "      <td>0</td>\n",
              "    </tr>\n",
              "    <tr>\n",
              "      <th>4</th>\n",
              "      <td>2539329</td>\n",
              "      <td>1</td>\n",
              "      <td>prior</td>\n",
              "      <td>1</td>\n",
              "      <td>2</td>\n",
              "      <td>8</td>\n",
              "      <td>NaN</td>\n",
              "      <td>26405</td>\n",
              "      <td>5</td>\n",
              "      <td>0</td>\n",
              "    </tr>\n",
              "  </tbody>\n",
              "</table>\n",
              "</div>"
            ],
            "text/plain": [
              "   order_id  user_id eval_set  ...  product_id  add_to_cart_order  reordered\n",
              "0   2539329        1    prior  ...         196                  1          0\n",
              "1   2539329        1    prior  ...       14084                  2          0\n",
              "2   2539329        1    prior  ...       12427                  3          0\n",
              "3   2539329        1    prior  ...       26088                  4          0\n",
              "4   2539329        1    prior  ...       26405                  5          0\n",
              "\n",
              "[5 rows x 10 columns]"
            ]
          },
          "metadata": {
            "tags": []
          },
          "execution_count": 13
        }
      ]
    },
    {
      "cell_type": "code",
      "metadata": {
        "id": "7jz2_qu3zFdE",
        "colab_type": "code",
        "colab": {
          "base_uri": "https://localhost:8080/",
          "height": 33
        },
        "outputId": "6bb3755c-d600-4924-f73c-6a630463e8db"
      },
      "source": [
        "prior_products.shape"
      ],
      "execution_count": null,
      "outputs": [
        {
          "output_type": "execute_result",
          "data": {
            "text/plain": [
              "(32434489, 10)"
            ]
          },
          "metadata": {
            "tags": []
          },
          "execution_count": 14
        }
      ]
    },
    {
      "cell_type": "markdown",
      "metadata": {
        "id": "9Vs5tq_xmIGr",
        "colab_type": "text"
      },
      "source": [
        "32434489 user_products pair in the prior_products"
      ]
    },
    {
      "cell_type": "code",
      "metadata": {
        "id": "648bBEcaWbVx",
        "colab_type": "code",
        "colab": {
          "base_uri": "https://localhost:8080/",
          "height": 133
        },
        "outputId": "15588f13-339d-48e6-edd7-f4c7d40fd00a"
      },
      "source": [
        "prior_products.groupby('reordered')['order_id'].count().to_frame('num_of_count')"
      ],
      "execution_count": null,
      "outputs": [
        {
          "output_type": "execute_result",
          "data": {
            "text/html": [
              "<div>\n",
              "<style scoped>\n",
              "    .dataframe tbody tr th:only-of-type {\n",
              "        vertical-align: middle;\n",
              "    }\n",
              "\n",
              "    .dataframe tbody tr th {\n",
              "        vertical-align: top;\n",
              "    }\n",
              "\n",
              "    .dataframe thead th {\n",
              "        text-align: right;\n",
              "    }\n",
              "</style>\n",
              "<table border=\"1\" class=\"dataframe\">\n",
              "  <thead>\n",
              "    <tr style=\"text-align: right;\">\n",
              "      <th></th>\n",
              "      <th>num_of_count</th>\n",
              "    </tr>\n",
              "    <tr>\n",
              "      <th>reordered</th>\n",
              "      <th></th>\n",
              "    </tr>\n",
              "  </thead>\n",
              "  <tbody>\n",
              "    <tr>\n",
              "      <th>0</th>\n",
              "      <td>13307953</td>\n",
              "    </tr>\n",
              "    <tr>\n",
              "      <th>1</th>\n",
              "      <td>19126536</td>\n",
              "    </tr>\n",
              "  </tbody>\n",
              "</table>\n",
              "</div>"
            ],
            "text/plain": [
              "           num_of_count\n",
              "reordered              \n",
              "0              13307953\n",
              "1              19126536"
            ]
          },
          "metadata": {
            "tags": []
          },
          "execution_count": 15
        }
      ]
    },
    {
      "cell_type": "code",
      "metadata": {
        "id": "NX_l-LAWBIBv",
        "colab_type": "code",
        "colab": {
          "base_uri": "https://localhost:8080/",
          "height": 33
        },
        "outputId": "3fb1e1e2-18a8-4b2f-d98f-40307cccec1f"
      },
      "source": [
        "ratio_original_prior = 13307953/19126536\n",
        "ratio_original_prior"
      ],
      "execution_count": null,
      "outputs": [
        {
          "output_type": "execute_result",
          "data": {
            "text/plain": [
              "0.6957847986692415"
            ]
          },
          "metadata": {
            "tags": []
          },
          "execution_count": 16
        }
      ]
    },
    {
      "cell_type": "markdown",
      "metadata": {
        "id": "O6WdKfoABT6q",
        "colab_type": "text"
      },
      "source": [
        "reordered 0, 1 ratio =0.696"
      ]
    },
    {
      "cell_type": "code",
      "metadata": {
        "id": "wphXZQe2U89k",
        "colab_type": "code",
        "colab": {
          "base_uri": "https://localhost:8080/",
          "height": 191
        },
        "outputId": "f7e8a9c6-d204-4036-a2ad-be58349e4927"
      },
      "source": [
        "#merge orders[orders['eval_set'] == 'train'] and order_products_train to get products ordering information in the last orders\n",
        "train_products = pd.merge(orders[orders['eval_set'] == 'train'],\n",
        "                    order_products_train,on='order_id')\n",
        "train_products.head()"
      ],
      "execution_count": null,
      "outputs": [
        {
          "output_type": "execute_result",
          "data": {
            "text/html": [
              "<div>\n",
              "<style scoped>\n",
              "    .dataframe tbody tr th:only-of-type {\n",
              "        vertical-align: middle;\n",
              "    }\n",
              "\n",
              "    .dataframe tbody tr th {\n",
              "        vertical-align: top;\n",
              "    }\n",
              "\n",
              "    .dataframe thead th {\n",
              "        text-align: right;\n",
              "    }\n",
              "</style>\n",
              "<table border=\"1\" class=\"dataframe\">\n",
              "  <thead>\n",
              "    <tr style=\"text-align: right;\">\n",
              "      <th></th>\n",
              "      <th>order_id</th>\n",
              "      <th>user_id</th>\n",
              "      <th>eval_set</th>\n",
              "      <th>order_number</th>\n",
              "      <th>order_dow</th>\n",
              "      <th>order_hour_of_day</th>\n",
              "      <th>days_since_prior_order</th>\n",
              "      <th>product_id</th>\n",
              "      <th>add_to_cart_order</th>\n",
              "      <th>reordered</th>\n",
              "    </tr>\n",
              "  </thead>\n",
              "  <tbody>\n",
              "    <tr>\n",
              "      <th>0</th>\n",
              "      <td>1187899</td>\n",
              "      <td>1</td>\n",
              "      <td>train</td>\n",
              "      <td>11</td>\n",
              "      <td>4</td>\n",
              "      <td>8</td>\n",
              "      <td>14.0</td>\n",
              "      <td>196</td>\n",
              "      <td>1</td>\n",
              "      <td>1</td>\n",
              "    </tr>\n",
              "    <tr>\n",
              "      <th>1</th>\n",
              "      <td>1187899</td>\n",
              "      <td>1</td>\n",
              "      <td>train</td>\n",
              "      <td>11</td>\n",
              "      <td>4</td>\n",
              "      <td>8</td>\n",
              "      <td>14.0</td>\n",
              "      <td>25133</td>\n",
              "      <td>2</td>\n",
              "      <td>1</td>\n",
              "    </tr>\n",
              "    <tr>\n",
              "      <th>2</th>\n",
              "      <td>1187899</td>\n",
              "      <td>1</td>\n",
              "      <td>train</td>\n",
              "      <td>11</td>\n",
              "      <td>4</td>\n",
              "      <td>8</td>\n",
              "      <td>14.0</td>\n",
              "      <td>38928</td>\n",
              "      <td>3</td>\n",
              "      <td>1</td>\n",
              "    </tr>\n",
              "    <tr>\n",
              "      <th>3</th>\n",
              "      <td>1187899</td>\n",
              "      <td>1</td>\n",
              "      <td>train</td>\n",
              "      <td>11</td>\n",
              "      <td>4</td>\n",
              "      <td>8</td>\n",
              "      <td>14.0</td>\n",
              "      <td>26405</td>\n",
              "      <td>4</td>\n",
              "      <td>1</td>\n",
              "    </tr>\n",
              "    <tr>\n",
              "      <th>4</th>\n",
              "      <td>1187899</td>\n",
              "      <td>1</td>\n",
              "      <td>train</td>\n",
              "      <td>11</td>\n",
              "      <td>4</td>\n",
              "      <td>8</td>\n",
              "      <td>14.0</td>\n",
              "      <td>39657</td>\n",
              "      <td>5</td>\n",
              "      <td>1</td>\n",
              "    </tr>\n",
              "  </tbody>\n",
              "</table>\n",
              "</div>"
            ],
            "text/plain": [
              "   order_id  user_id eval_set  ...  product_id  add_to_cart_order  reordered\n",
              "0   1187899        1    train  ...         196                  1          1\n",
              "1   1187899        1    train  ...       25133                  2          1\n",
              "2   1187899        1    train  ...       38928                  3          1\n",
              "3   1187899        1    train  ...       26405                  4          1\n",
              "4   1187899        1    train  ...       39657                  5          1\n",
              "\n",
              "[5 rows x 10 columns]"
            ]
          },
          "metadata": {
            "tags": []
          },
          "execution_count": 17
        }
      ]
    },
    {
      "cell_type": "code",
      "metadata": {
        "id": "3ozxpSKMVnGt",
        "colab_type": "code",
        "colab": {
          "base_uri": "https://localhost:8080/",
          "height": 133
        },
        "outputId": "e32f5526-8887-4e99-d3ee-dcdd31e3b7c1"
      },
      "source": [
        "train_products.groupby('reordered')['order_id'].count().to_frame('count')"
      ],
      "execution_count": null,
      "outputs": [
        {
          "output_type": "execute_result",
          "data": {
            "text/html": [
              "<div>\n",
              "<style scoped>\n",
              "    .dataframe tbody tr th:only-of-type {\n",
              "        vertical-align: middle;\n",
              "    }\n",
              "\n",
              "    .dataframe tbody tr th {\n",
              "        vertical-align: top;\n",
              "    }\n",
              "\n",
              "    .dataframe thead th {\n",
              "        text-align: right;\n",
              "    }\n",
              "</style>\n",
              "<table border=\"1\" class=\"dataframe\">\n",
              "  <thead>\n",
              "    <tr style=\"text-align: right;\">\n",
              "      <th></th>\n",
              "      <th>count</th>\n",
              "    </tr>\n",
              "    <tr>\n",
              "      <th>reordered</th>\n",
              "      <th></th>\n",
              "    </tr>\n",
              "  </thead>\n",
              "  <tbody>\n",
              "    <tr>\n",
              "      <th>0</th>\n",
              "      <td>555793</td>\n",
              "    </tr>\n",
              "    <tr>\n",
              "      <th>1</th>\n",
              "      <td>828824</td>\n",
              "    </tr>\n",
              "  </tbody>\n",
              "</table>\n",
              "</div>"
            ],
            "text/plain": [
              "            count\n",
              "reordered        \n",
              "0          555793\n",
              "1          828824"
            ]
          },
          "metadata": {
            "tags": []
          },
          "execution_count": 18
        }
      ]
    },
    {
      "cell_type": "code",
      "metadata": {
        "id": "rKrNguykAgYN",
        "colab_type": "code",
        "colab": {
          "base_uri": "https://localhost:8080/",
          "height": 33
        },
        "outputId": "243661a6-2ecc-41e0-f3cc-d1e9a7741cc5"
      },
      "source": [
        "ratio_original_train = 555793/828824\n",
        "ratio_original_train"
      ],
      "execution_count": null,
      "outputs": [
        {
          "output_type": "execute_result",
          "data": {
            "text/plain": [
              "0.6705802438153335"
            ]
          },
          "metadata": {
            "tags": []
          },
          "execution_count": 19
        }
      ]
    },
    {
      "cell_type": "markdown",
      "metadata": {
        "id": "k41GAh1jAZYY",
        "colab_type": "text"
      },
      "source": [
        "reordered 0, 1 ratio =0.671"
      ]
    },
    {
      "cell_type": "code",
      "metadata": {
        "id": "tKD5MilsWENW",
        "colab_type": "code",
        "colab": {}
      },
      "source": [
        "# since there are too many user product pairs, after feature engineening, the model training would be very expensive. so I will only use 1/6 of users' data for this project\n",
        "user_id = list(orders[orders['eval_set'] == 'train']['user_id'])\n",
        "num = len(user_id)//6"
      ],
      "execution_count": null,
      "outputs": []
    },
    {
      "cell_type": "code",
      "metadata": {
        "id": "tRx2FHyoE78I",
        "colab_type": "code",
        "colab": {}
      },
      "source": [
        "random.seed(5)\n",
        "user_selected = random.sample(user_id, num)"
      ],
      "execution_count": null,
      "outputs": []
    },
    {
      "cell_type": "markdown",
      "metadata": {
        "id": "CzlAxCt8XGwV",
        "colab_type": "text"
      },
      "source": [
        "split into training and testing set"
      ]
    },
    {
      "cell_type": "code",
      "metadata": {
        "id": "hPNXRXjRUzBz",
        "colab_type": "code",
        "colab": {
          "base_uri": "https://localhost:8080/",
          "height": 33
        },
        "outputId": "8ea6dc82-df29-4048-d79b-2be671396827"
      },
      "source": [
        "# Split the user_selected into training and testing set.\n",
        "user_id_train, user_id_test = train_test_split(user_selected,test_size=0.2,random_state=5)\n",
        "\n",
        "print(len(user_selected),len(user_id_train),len(user_id_test))"
      ],
      "execution_count": null,
      "outputs": [
        {
          "output_type": "stream",
          "text": [
            "21868 17494 4374\n"
          ],
          "name": "stdout"
        }
      ]
    },
    {
      "cell_type": "code",
      "metadata": {
        "id": "oAFNP3KGcZEn",
        "colab_type": "code",
        "colab": {
          "base_uri": "https://localhost:8080/",
          "height": 133
        },
        "outputId": "3321b7e1-5d77-4dfe-9008-f50866a5b587"
      },
      "source": [
        "train_products[train_products['user_id'].isin(user_id_test)].groupby('reordered')['order_id'].count().to_frame('count')"
      ],
      "execution_count": null,
      "outputs": [
        {
          "output_type": "execute_result",
          "data": {
            "text/html": [
              "<div>\n",
              "<style scoped>\n",
              "    .dataframe tbody tr th:only-of-type {\n",
              "        vertical-align: middle;\n",
              "    }\n",
              "\n",
              "    .dataframe tbody tr th {\n",
              "        vertical-align: top;\n",
              "    }\n",
              "\n",
              "    .dataframe thead th {\n",
              "        text-align: right;\n",
              "    }\n",
              "</style>\n",
              "<table border=\"1\" class=\"dataframe\">\n",
              "  <thead>\n",
              "    <tr style=\"text-align: right;\">\n",
              "      <th></th>\n",
              "      <th>count</th>\n",
              "    </tr>\n",
              "    <tr>\n",
              "      <th>reordered</th>\n",
              "      <th></th>\n",
              "    </tr>\n",
              "  </thead>\n",
              "  <tbody>\n",
              "    <tr>\n",
              "      <th>0</th>\n",
              "      <td>18191</td>\n",
              "    </tr>\n",
              "    <tr>\n",
              "      <th>1</th>\n",
              "      <td>28213</td>\n",
              "    </tr>\n",
              "  </tbody>\n",
              "</table>\n",
              "</div>"
            ],
            "text/plain": [
              "           count\n",
              "reordered       \n",
              "0          18191\n",
              "1          28213"
            ]
          },
          "metadata": {
            "tags": []
          },
          "execution_count": 23
        }
      ]
    },
    {
      "cell_type": "code",
      "metadata": {
        "id": "t-x9lh9tAwam",
        "colab_type": "code",
        "colab": {
          "base_uri": "https://localhost:8080/",
          "height": 33
        },
        "outputId": "075d91d3-b2d4-4b4b-99b3-5049dc4b5b3a"
      },
      "source": [
        "ratio_new_train = 18191/28213\n",
        "ratio_new_train"
      ],
      "execution_count": null,
      "outputs": [
        {
          "output_type": "execute_result",
          "data": {
            "text/plain": [
              "0.6447736858894836"
            ]
          },
          "metadata": {
            "tags": []
          },
          "execution_count": 24
        }
      ]
    },
    {
      "cell_type": "code",
      "metadata": {
        "id": "cr6IVmoyBlDk",
        "colab_type": "code",
        "colab": {
          "base_uri": "https://localhost:8080/",
          "height": 133
        },
        "outputId": "3a08ad20-9714-46e7-d76a-6292cda5fc48"
      },
      "source": [
        "prior_products[prior_products['user_id'].isin(user_id_test)].groupby('reordered')['order_id'].count().to_frame('count')"
      ],
      "execution_count": null,
      "outputs": [
        {
          "output_type": "execute_result",
          "data": {
            "text/html": [
              "<div>\n",
              "<style scoped>\n",
              "    .dataframe tbody tr th:only-of-type {\n",
              "        vertical-align: middle;\n",
              "    }\n",
              "\n",
              "    .dataframe tbody tr th {\n",
              "        vertical-align: top;\n",
              "    }\n",
              "\n",
              "    .dataframe thead th {\n",
              "        text-align: right;\n",
              "    }\n",
              "</style>\n",
              "<table border=\"1\" class=\"dataframe\">\n",
              "  <thead>\n",
              "    <tr style=\"text-align: right;\">\n",
              "      <th></th>\n",
              "      <th>count</th>\n",
              "    </tr>\n",
              "    <tr>\n",
              "      <th>reordered</th>\n",
              "      <th></th>\n",
              "    </tr>\n",
              "  </thead>\n",
              "  <tbody>\n",
              "    <tr>\n",
              "      <th>0</th>\n",
              "      <td>285493</td>\n",
              "    </tr>\n",
              "    <tr>\n",
              "      <th>1</th>\n",
              "      <td>430025</td>\n",
              "    </tr>\n",
              "  </tbody>\n",
              "</table>\n",
              "</div>"
            ],
            "text/plain": [
              "            count\n",
              "reordered        \n",
              "0          285493\n",
              "1          430025"
            ]
          },
          "metadata": {
            "tags": []
          },
          "execution_count": 27
        }
      ]
    },
    {
      "cell_type": "code",
      "metadata": {
        "id": "MUccVlBaCPrl",
        "colab_type": "code",
        "colab": {
          "base_uri": "https://localhost:8080/",
          "height": 33
        },
        "outputId": "6c4415d2-6b30-450b-ae5c-5addcfe9943c"
      },
      "source": [
        "ratio_new_prior = 285493/430025\n",
        "ratio_new_prior"
      ],
      "execution_count": null,
      "outputs": [
        {
          "output_type": "execute_result",
          "data": {
            "text/plain": [
              "0.6638986105458985"
            ]
          },
          "metadata": {
            "tags": []
          },
          "execution_count": 28
        }
      ]
    },
    {
      "cell_type": "markdown",
      "metadata": {
        "id": "b6dW8a9gA6nE",
        "colab_type": "text"
      },
      "source": [
        "reordered 0.1 ratio doesnot change much for both prior and train data"
      ]
    },
    {
      "cell_type": "code",
      "metadata": {
        "id": "tBLP2EW-fne9",
        "colab_type": "code",
        "colab": {}
      },
      "source": [
        "# Split DataFrames based on user_id\n",
        "X_products_train = prior_products[prior_products['user_id'].isin(user_id_train)]\n",
        "X_products_test = prior_products[prior_products['user_id'].isin(user_id_test)]"
      ],
      "execution_count": null,
      "outputs": []
    },
    {
      "cell_type": "code",
      "metadata": {
        "id": "kmJnsxWygTO7",
        "colab_type": "code",
        "colab": {}
      },
      "source": [
        "X_orders_train = orders[orders['user_id'].isin(user_id_train)]\n",
        "X_orders_test = orders[orders['user_id'].isin(user_id_test)]\n",
        "X_orders_train = X_orders_train[X_orders_train['eval_set'] == 'prior']\n",
        "X_orders_test = X_orders_test[X_orders_test['eval_set'] == 'prior']"
      ],
      "execution_count": null,
      "outputs": []
    },
    {
      "cell_type": "markdown",
      "metadata": {
        "id": "oABZf0vBiGoJ",
        "colab_type": "text"
      },
      "source": [
        "# **target**"
      ]
    },
    {
      "cell_type": "code",
      "metadata": {
        "id": "sXfFxL5KcoXu",
        "colab_type": "code",
        "colab": {}
      },
      "source": [
        "# select all the user-product pair in prior order for training ang testing set\n",
        "user_product_pair_train = X_products_train.groupby(['user_id','product_id'])['order_number'].agg('min').to_frame('in_train_set').reset_index()\n",
        "user_product_pair_train['in_train_set'] = True"
      ],
      "execution_count": null,
      "outputs": []
    },
    {
      "cell_type": "code",
      "metadata": {
        "id": "i2NMUQCn0qZ9",
        "colab_type": "code",
        "colab": {}
      },
      "source": [
        "user_product_pair_test = X_products_test.groupby(['user_id','product_id'])['order_number'].agg('min').to_frame('in_test_set').reset_index()\n",
        "user_product_pair_test['in_test_set'] = True"
      ],
      "execution_count": null,
      "outputs": []
    },
    {
      "cell_type": "code",
      "metadata": {
        "id": "SzrJyCexiFsa",
        "colab_type": "code",
        "colab": {}
      },
      "source": [
        "#merge dataframe to get the last order products information for original train set, and do train test split based on user_id\n",
        "last_orders = pd.merge(order_products_train, orders[orders['eval_set'] == 'train'], how='left',on='order_id')\n",
        "y_train = last_orders[last_orders['user_id'].isin(user_id_train)]\n",
        "y_test = last_orders[last_orders['user_id'].isin(user_id_test)]"
      ],
      "execution_count": null,
      "outputs": []
    },
    {
      "cell_type": "code",
      "metadata": {
        "id": "iVse0pL6h4IY",
        "colab_type": "code",
        "colab": {}
      },
      "source": [
        "#merge with the user_product pairs in training set \n",
        "y_train_merge = pd.merge(user_product_pair_train,y_train[['user_id','product_id','reordered']],how='left',on=['user_id','product_id'])"
      ],
      "execution_count": null,
      "outputs": []
    },
    {
      "cell_type": "code",
      "metadata": {
        "id": "HYqnXMFW0Yo_",
        "colab_type": "code",
        "colab": {}
      },
      "source": [
        "#merge with the user_product pairs in testing set\n",
        "y_test_merge = pd.merge(user_product_pair_test,y_test[['user_id','product_id','reordered']],how='left',on=['user_id','product_id'])"
      ],
      "execution_count": null,
      "outputs": []
    },
    {
      "cell_type": "code",
      "metadata": {
        "id": "d9wGsCfrkssY",
        "colab_type": "code",
        "colab": {}
      },
      "source": [
        "# fill na with 0 to indicate not reordered\n",
        "y_train_merge.fillna(0,inplace=True)"
      ],
      "execution_count": null,
      "outputs": []
    },
    {
      "cell_type": "code",
      "metadata": {
        "id": "4u3fkhGx1Ph7",
        "colab_type": "code",
        "colab": {}
      },
      "source": [
        "y_test_merge.fillna(0,inplace=True)"
      ],
      "execution_count": null,
      "outputs": []
    },
    {
      "cell_type": "code",
      "metadata": {
        "id": "olfbqjoZotcY",
        "colab_type": "code",
        "colab": {}
      },
      "source": [
        "y_train_merge.drop(columns ='in_train_set',axis=1,inplace=True)"
      ],
      "execution_count": null,
      "outputs": []
    },
    {
      "cell_type": "code",
      "metadata": {
        "id": "yn3jZlmu1TrG",
        "colab_type": "code",
        "colab": {}
      },
      "source": [
        "y_test_merge.drop(columns ='in_test_set',axis=1,inplace=True)"
      ],
      "execution_count": null,
      "outputs": []
    },
    {
      "cell_type": "code",
      "metadata": {
        "id": "CGnnyVQ9z4d1",
        "colab_type": "code",
        "colab": {
          "base_uri": "https://localhost:8080/",
          "height": 137
        },
        "outputId": "8c137805-6fd7-4426-8ed6-93a5f4f36a0a"
      },
      "source": [
        "y_train_merge.groupby('reordered').count()"
      ],
      "execution_count": null,
      "outputs": [
        {
          "output_type": "execute_result",
          "data": {
            "text/html": [
              "<div>\n",
              "<style scoped>\n",
              "    .dataframe tbody tr th:only-of-type {\n",
              "        vertical-align: middle;\n",
              "    }\n",
              "\n",
              "    .dataframe tbody tr th {\n",
              "        vertical-align: top;\n",
              "    }\n",
              "\n",
              "    .dataframe thead th {\n",
              "        text-align: right;\n",
              "    }\n",
              "</style>\n",
              "<table border=\"1\" class=\"dataframe\">\n",
              "  <thead>\n",
              "    <tr style=\"text-align: right;\">\n",
              "      <th></th>\n",
              "      <th>user_id</th>\n",
              "      <th>product_id</th>\n",
              "    </tr>\n",
              "    <tr>\n",
              "      <th>reordered</th>\n",
              "      <th></th>\n",
              "      <th></th>\n",
              "    </tr>\n",
              "  </thead>\n",
              "  <tbody>\n",
              "    <tr>\n",
              "      <th>0.0</th>\n",
              "      <td>1024609</td>\n",
              "      <td>1024609</td>\n",
              "    </tr>\n",
              "    <tr>\n",
              "      <th>1.0</th>\n",
              "      <td>110461</td>\n",
              "      <td>110461</td>\n",
              "    </tr>\n",
              "  </tbody>\n",
              "</table>\n",
              "</div>"
            ],
            "text/plain": [
              "           user_id  product_id\n",
              "reordered                     \n",
              "0.0        1024609     1024609\n",
              "1.0         110461      110461"
            ]
          },
          "metadata": {
            "tags": []
          },
          "execution_count": 31
        }
      ]
    },
    {
      "cell_type": "code",
      "metadata": {
        "id": "PPmgVgdt1ZE2",
        "colab_type": "code",
        "colab": {
          "base_uri": "https://localhost:8080/",
          "height": 142
        },
        "outputId": "426312bc-377b-4982-c2d0-03fa66b7e5bc"
      },
      "source": [
        "y_test_merge.groupby('reordered').count()"
      ],
      "execution_count": null,
      "outputs": [
        {
          "output_type": "execute_result",
          "data": {
            "text/html": [
              "<div>\n",
              "<style scoped>\n",
              "    .dataframe tbody tr th:only-of-type {\n",
              "        vertical-align: middle;\n",
              "    }\n",
              "\n",
              "    .dataframe tbody tr th {\n",
              "        vertical-align: top;\n",
              "    }\n",
              "\n",
              "    .dataframe thead th {\n",
              "        text-align: right;\n",
              "    }\n",
              "</style>\n",
              "<table border=\"1\" class=\"dataframe\">\n",
              "  <thead>\n",
              "    <tr style=\"text-align: right;\">\n",
              "      <th></th>\n",
              "      <th>user_id</th>\n",
              "      <th>product_id</th>\n",
              "    </tr>\n",
              "    <tr>\n",
              "      <th>reordered</th>\n",
              "      <th></th>\n",
              "      <th></th>\n",
              "    </tr>\n",
              "  </thead>\n",
              "  <tbody>\n",
              "    <tr>\n",
              "      <th>0.0</th>\n",
              "      <td>257280</td>\n",
              "      <td>257280</td>\n",
              "    </tr>\n",
              "    <tr>\n",
              "      <th>1.0</th>\n",
              "      <td>28213</td>\n",
              "      <td>28213</td>\n",
              "    </tr>\n",
              "  </tbody>\n",
              "</table>\n",
              "</div>"
            ],
            "text/plain": [
              "           user_id  product_id\n",
              "reordered                     \n",
              "0.0         257280      257280\n",
              "1.0          28213       28213"
            ]
          },
          "metadata": {
            "tags": []
          },
          "execution_count": 32
        }
      ]
    },
    {
      "cell_type": "code",
      "metadata": {
        "id": "1ngcWgma0IXY",
        "colab_type": "code",
        "colab": {}
      },
      "source": [
        "# save to csv and upload to google drive\n",
        "y_train_merge.to_csv('y_train.csv')\n",
        "!cp y_train.csv \"drive/My Drive//Colab Notebooks/data/\""
      ],
      "execution_count": null,
      "outputs": []
    },
    {
      "cell_type": "code",
      "metadata": {
        "id": "E6mLNRa71jet",
        "colab_type": "code",
        "colab": {}
      },
      "source": [
        "y_test_merge.to_csv('y_test.csv')\n",
        "!cp y_test.csv \"drive/My Drive//Colab Notebooks/data/\""
      ],
      "execution_count": null,
      "outputs": []
    },
    {
      "cell_type": "markdown",
      "metadata": {
        "id": "IoGEE5EUn_Zg",
        "colab_type": "text"
      },
      "source": [
        "# **feature** **engineering**"
      ]
    },
    {
      "cell_type": "markdown",
      "metadata": {
        "id": "wW2tpqEgodRS",
        "colab_type": "text"
      },
      "source": [
        "user related features"
      ]
    },
    {
      "cell_type": "code",
      "metadata": {
        "id": "ytx62Y3963tQ",
        "colab_type": "code",
        "colab": {}
      },
      "source": [
        "#store user related features in a dictionary\n",
        "user_features_train = {} \n",
        "user_features_test = {}"
      ],
      "execution_count": null,
      "outputs": []
    },
    {
      "cell_type": "code",
      "metadata": {
        "id": "NIGSRSPRofjy",
        "colab_type": "code",
        "colab": {}
      },
      "source": [
        "# total number of orders each user has placed\n",
        "\n",
        "def num_of_orders(df):\n",
        "  return df.groupby('user_id')['order_number'].count().to_frame('u_num_of_orders').reset_index()\n",
        "\n",
        "user_features_train['num_of_orders'] = num_of_orders(X_orders_train)\n",
        "user_features_test['num_of_orders'] = num_of_orders(X_orders_test)"
      ],
      "execution_count": null,
      "outputs": []
    },
    {
      "cell_type": "code",
      "metadata": {
        "id": "rwIVQRaVmw9h",
        "colab_type": "code",
        "colab": {}
      },
      "source": [
        "#total number of products each user has purchased\n",
        "\n",
        "def num_of_products(df):\n",
        "  return df.groupby(by=['user_id'])['product_id'].count().to_frame('u_num_of_products').reset_index()\n",
        "\n",
        "user_features_train['num_of_products'] = num_of_products(X_products_train)\n",
        "user_features_test['num_of_products'] = num_of_products(X_products_test)"
      ],
      "execution_count": null,
      "outputs": []
    },
    {
      "cell_type": "code",
      "metadata": {
        "id": "YLOCHIjQ1J--",
        "colab_type": "code",
        "colab": {}
      },
      "source": [
        "#average number of products each user has purchased per order\n",
        "def products_mean(df):\n",
        "  return df.groupby(['user_id','order_number'])['add_to_cart_order'].max().groupby('user_id').mean().to_frame('u_products_mean').reset_index()\n",
        "\n",
        "user_features_train['products_mean'] = products_mean(X_products_train)\n",
        "user_features_test['products_mean'] = products_mean(X_products_test)"
      ],
      "execution_count": null,
      "outputs": []
    },
    {
      "cell_type": "code",
      "metadata": {
        "id": "2NpW28rymKt7",
        "colab_type": "code",
        "colab": {}
      },
      "source": [
        "#std of products each user has purchased per order\n",
        "def products_std(df):\n",
        "  return df.groupby(['user_id','order_number'])['add_to_cart_order'].max().groupby('user_id').std().to_frame('u_products_std').reset_index()\n",
        "\n",
        "user_features_train['products_std'] = products_std(X_products_train) \n",
        "user_features_test['products_std'] = products_std(X_products_test)"
      ],
      "execution_count": null,
      "outputs": []
    },
    {
      "cell_type": "code",
      "metadata": {
        "id": "jT86MuqWZZnP",
        "colab_type": "code",
        "colab": {}
      },
      "source": [
        "#number of unique products each user has purchased\n",
        "def unique_products(df):\n",
        "  return df.groupby('user_id')['product_id'].nunique().to_frame('u_unique_products').reset_index()\n",
        "\n",
        "user_features_train['unique_products'] = unique_products(X_products_train)\n",
        "user_features_test['unique_products'] = unique_products(X_products_test)"
      ],
      "execution_count": null,
      "outputs": []
    },
    {
      "cell_type": "code",
      "metadata": {
        "id": "9E1CNJSPcqle",
        "colab_type": "code",
        "colab": {}
      },
      "source": [
        "#number of total products each user has purchased which are reordered\n",
        "def num_of_reordered_products(df):\n",
        "  return df.groupby('user_id')['reordered'].sum().to_frame('u_num_of_reordered_products').reset_index()\n",
        "\n",
        "user_features_train['num_of_reordered_products'] = num_of_reordered_products(X_products_train) \n",
        "user_features_test['num_of_reordered_products'] = num_of_reordered_products(X_products_test)"
      ],
      "execution_count": null,
      "outputs": []
    },
    {
      "cell_type": "code",
      "metadata": {
        "id": "EG1ToPOJgQL1",
        "colab_type": "code",
        "colab": {}
      },
      "source": [
        "#average number of reordered products each user has purchased per order\n",
        "def reordered_mean(df):\n",
        "  return df.groupby(['user_id','order_number'])['reordered'].sum().groupby('user_id').mean().to_frame('u_reordered_mean').reset_index()\n",
        "\n",
        "user_features_train['reordered_mean'] = reordered_mean(X_products_train) \n",
        "user_features_test['reordered_mean'] = reordered_mean(X_products_test) "
      ],
      "execution_count": null,
      "outputs": []
    },
    {
      "cell_type": "code",
      "metadata": {
        "id": "3r1ybyang9je",
        "colab_type": "code",
        "colab": {}
      },
      "source": [
        "#std of reordered products each user has purchased per order\n",
        "def reordered_std(df):\n",
        "  return df.groupby(['user_id','order_number'])['reordered'].sum().groupby('user_id').std().to_frame('u_reordered_std').reset_index()\n",
        "\n",
        "user_features_train['reordered_std'] = reordered_std(X_products_train)\n",
        "user_features_test['reordered_std'] = reordered_std(X_products_test) "
      ],
      "execution_count": null,
      "outputs": []
    },
    {
      "cell_type": "code",
      "metadata": {
        "id": "-DEgIzaDkdhb",
        "colab_type": "code",
        "colab": {}
      },
      "source": [
        "#mean of order_dow for each user\n",
        "def order_dow_mean(df):\n",
        "  return df.groupby(['user_id','order_number'])['order_dow'].agg('min').groupby('user_id').mean().to_frame('u_order_dow_mean').reset_index()\n",
        "\n",
        "user_features_train['order_dow_mean'] = order_dow_mean(X_products_train)\n",
        "user_features_test['order_dow_mean'] = order_dow_mean(X_products_test) "
      ],
      "execution_count": null,
      "outputs": []
    },
    {
      "cell_type": "code",
      "metadata": {
        "id": "ZHp4mBVsnHF0",
        "colab_type": "code",
        "colab": {}
      },
      "source": [
        "#std of order_dow for each user\n",
        "def order_dow_std(df):\n",
        "  return df.groupby(['user_id','order_number'])['order_dow'].agg('min').groupby('user_id').std().to_frame('u_order_dow_std').reset_index()\n",
        "\n",
        "user_features_train['order_dow_std'] = order_dow_std(X_products_train)\n",
        "user_features_test['order_dow_std'] = order_dow_std(X_products_test)"
      ],
      "execution_count": null,
      "outputs": []
    },
    {
      "cell_type": "code",
      "metadata": {
        "id": "0RNRCpk8nvo3",
        "colab_type": "code",
        "colab": {}
      },
      "source": [
        "#mean of order_hour_of_day for each user\n",
        "def order_hour_of_day_mean(df):\n",
        "  return df.groupby(['user_id','order_number'])['order_hour_of_day'].agg('min').groupby('user_id').mean().to_frame('u_order_hour_of_day_mean').reset_index()\n",
        "\n",
        "user_features_train['order_hour_of_day_mean'] = order_hour_of_day_mean(X_products_train)\n",
        "user_features_test['order_hour_of_day_mean'] = order_hour_of_day_mean(X_products_test) "
      ],
      "execution_count": null,
      "outputs": []
    },
    {
      "cell_type": "code",
      "metadata": {
        "id": "wpLCfOZQn7iW",
        "colab_type": "code",
        "colab": {}
      },
      "source": [
        "#std of order_hour_of_day for each user\n",
        "def order_hour_of_day_std(df):\n",
        "  return df.groupby(['user_id','order_number'])['order_hour_of_day'].agg('min').groupby('user_id').std().to_frame('u_order_hour_of_day_std').reset_index()\n",
        "\n",
        "user_features_train['order_hour_of_day_std'] = order_hour_of_day_std(X_products_train)\n",
        "user_features_test['order_hour_of_day_std'] = order_hour_of_day_std(X_products_test) "
      ],
      "execution_count": null,
      "outputs": []
    },
    {
      "cell_type": "code",
      "metadata": {
        "id": "7otxad8KoAE-",
        "colab_type": "code",
        "colab": {}
      },
      "source": [
        "#mean of days_since_prior_order for each user \n",
        "def days_between_orders_mean(df):\n",
        "  return df[~df['days_since_prior_order'].isna()].groupby(['user_id','order_number'])['days_since_prior_order'].agg('min').groupby('user_id').mean().to_frame('u_days_between_orders_mean').reset_index()\n",
        "\n",
        "user_features_train['days_between_orders_mean'] = days_between_orders_mean(X_products_train) \n",
        "user_features_test['days_between_orders_mean'] = days_between_orders_mean(X_products_test) "
      ],
      "execution_count": null,
      "outputs": []
    },
    {
      "cell_type": "code",
      "metadata": {
        "id": "6ft7m9i_q9i3",
        "colab_type": "code",
        "colab": {}
      },
      "source": [
        "#std of days_since_prior_order for each user \n",
        "def days_between_orders_std(df):\n",
        "  return df[~df['days_since_prior_order'].isna()].groupby(['user_id','order_number'])['days_since_prior_order'].agg('min').groupby('user_id').std().to_frame('u_days_between_orders_std').reset_index()\n",
        "\n",
        "user_features_train['days_between_orders_std'] = days_between_orders_std(X_products_train) \n",
        "user_features_test['days_between_orders_std'] = days_between_orders_std(X_products_test) "
      ],
      "execution_count": null,
      "outputs": []
    },
    {
      "cell_type": "code",
      "metadata": {
        "id": "F2GnVHLNr7dO",
        "colab_type": "code",
        "colab": {}
      },
      "source": [
        "#number of the orders containing reordered items for each users\n",
        "def num_of_orders_containg_reorder(df):\n",
        "    return df.groupby(['user_id','order_number'])['reordered'].agg('max').groupby('user_id').sum().to_frame('u_num_of_orders_containg_reorder').reset_index()\n",
        "\n",
        "user_features_train['num_of_orders_containg_reorder'] = num_of_orders_containg_reorder(X_products_train)\n",
        "user_features_test['num_of_orders_containg_reorder'] = num_of_orders_containg_reorder(X_products_test) "
      ],
      "execution_count": null,
      "outputs": []
    },
    {
      "cell_type": "code",
      "metadata": {
        "id": "E_6A3jLz_an_",
        "colab_type": "code",
        "colab": {}
      },
      "source": [
        "# merge features together\n",
        "df_user_features_train = reduce(lambda  left,right: pd.merge(left,right,on=['user_id'],\n",
        "                                            how='left'), [feature for key, feature in user_features_train.items()])\n",
        "df_user_features_test = reduce(lambda  left,right: pd.merge(left,right,on=['user_id'],\n",
        "                                            how='left'), [feature for key, feature in user_features_test.items()])"
      ],
      "execution_count": null,
      "outputs": []
    },
    {
      "cell_type": "code",
      "metadata": {
        "id": "OFl1qUQKW4dz",
        "colab_type": "code",
        "colab": {
          "base_uri": "https://localhost:8080/",
          "height": 433
        },
        "outputId": "483627c4-e11b-4313-fc74-d1af409bf6dd"
      },
      "source": [
        "# proportion of products each user has purchased which are reordered\n",
        "df_user_features_train['u_reordered_products_ratio']=df_user_features_train['u_num_of_reordered_products']/df_user_features_train['u_num_of_products']\n",
        "# proportion of orders each user has placed which has reordered products\n",
        "df_user_features_train['u_reordered_order_ratio']=df_user_features_train['u_num_of_orders_containg_reorder']/df_user_features_train['u_num_of_orders']\n",
        "\n",
        "df_user_features_test['u_reordered_products_ratio']=df_user_features_test['u_num_of_reordered_products']/df_user_features_test['u_num_of_products']\n",
        "df_user_features_test['u_reordered_order_ratio']=df_user_features_test['u_num_of_orders_containg_reorder']/df_user_features_test['u_num_of_orders']\n",
        "\n",
        "df_user_features_train.info()"
      ],
      "execution_count": null,
      "outputs": [
        {
          "output_type": "stream",
          "text": [
            "<class 'pandas.core.frame.DataFrame'>\n",
            "Int64Index: 17494 entries, 0 to 17493\n",
            "Data columns (total 18 columns):\n",
            " #   Column                            Non-Null Count  Dtype  \n",
            "---  ------                            --------------  -----  \n",
            " 0   user_id                           17494 non-null  int64  \n",
            " 1   u_num_of_orders                   17494 non-null  int64  \n",
            " 2   u_num_of_products                 17494 non-null  int64  \n",
            " 3   u_products_mean                   17494 non-null  float64\n",
            " 4   u_products_std                    17494 non-null  float64\n",
            " 5   u_unique_products                 17494 non-null  int64  \n",
            " 6   u_num_of_reordered_products       17494 non-null  float64\n",
            " 7   u_reordered_mean                  17494 non-null  float64\n",
            " 8   u_reordered_std                   17494 non-null  float64\n",
            " 9   u_order_dow_mean                  17494 non-null  float64\n",
            " 10  u_order_dow_std                   17494 non-null  float64\n",
            " 11  u_order_hour_of_day_mean          17494 non-null  float64\n",
            " 12  u_order_hour_of_day_std           17494 non-null  float64\n",
            " 13  u_days_between_orders_mean        17494 non-null  float16\n",
            " 14  u_days_between_orders_std         17494 non-null  float16\n",
            " 15  u_num_of_orders_containg_reorder  17494 non-null  int8   \n",
            " 16  u_reordered_products_ratio        17494 non-null  float64\n",
            " 17  u_reordered_order_ratio           17494 non-null  float64\n",
            "dtypes: float16(2), float64(11), int64(4), int8(1)\n",
            "memory usage: 2.2 MB\n"
          ],
          "name": "stdout"
        }
      ]
    },
    {
      "cell_type": "code",
      "metadata": {
        "id": "wrc-ZCHJJ-zr",
        "colab_type": "code",
        "colab": {}
      },
      "source": [
        "# save to csv and upload to google drive\n",
        "df_user_features_train.to_csv('user_features_train.csv')\n",
        "!cp user_features_train.csv \"drive/My Drive//Colab Notebooks/data/\""
      ],
      "execution_count": null,
      "outputs": []
    },
    {
      "cell_type": "code",
      "metadata": {
        "colab_type": "code",
        "id": "_zqNRx5bKe3k",
        "colab": {}
      },
      "source": [
        "# save to csv and upload to google drive\n",
        "df_user_features_test.to_csv('user_features_test.csv')\n",
        "!cp user_features_test.csv \"drive/My Drive//Colab Notebooks/data/\""
      ],
      "execution_count": null,
      "outputs": []
    },
    {
      "cell_type": "markdown",
      "metadata": {
        "id": "7ZALA7qtou7p",
        "colab_type": "text"
      },
      "source": [
        "# **product related features**"
      ]
    },
    {
      "cell_type": "code",
      "metadata": {
        "id": "n5nMqK6musPx",
        "colab_type": "code",
        "colab": {}
      },
      "source": [
        "#store product related features in a dictionary\n",
        "product_features_train = {} \n",
        "product_features_test = {}"
      ],
      "execution_count": null,
      "outputs": []
    },
    {
      "cell_type": "code",
      "metadata": {
        "id": "YiXbw7qpGNMc",
        "colab_type": "code",
        "colab": {}
      },
      "source": [
        "#number of times the product has been purchased\n",
        "def p_num_of_orders(df):\n",
        "  return df.groupby('product_id')['user_id'].count().to_frame('p_num_of_orders').reset_index()\n",
        "\n",
        "product_features_train['p_num_of_orders'] = p_num_of_orders(X_products_train)\n",
        "product_features_test['p_num_of_orders'] = p_num_of_orders(X_products_test)"
      ],
      "execution_count": null,
      "outputs": []
    },
    {
      "cell_type": "code",
      "metadata": {
        "id": "OGwnQLiuqesG",
        "colab_type": "code",
        "colab": {}
      },
      "source": [
        "#number of users who have purchased the product\n",
        "def p_num_of_users(df):\n",
        "  return df.groupby('product_id')['user_id'].nunique().to_frame('p_num_of_users').reset_index()\n",
        "\n",
        "product_features_train['p_num_of_users'] = p_num_of_users(X_products_train)\n",
        "product_features_test['p_num_of_users'] = p_num_of_users(X_products_test)"
      ],
      "execution_count": null,
      "outputs": []
    },
    {
      "cell_type": "code",
      "metadata": {
        "id": "rKbacDgorPTq",
        "colab_type": "code",
        "colab": {}
      },
      "source": [
        "#reorder ratio\n",
        "def p_reorder_ratio(df):\n",
        "  return df.groupby('product_id')['reordered'].mean().to_frame('p_reorder_ratio').reset_index()\n",
        "\n",
        "product_features_train['p_reorder_ratio'] = p_reorder_ratio(X_products_train)\n",
        "product_features_test['p_reorder_ratio'] = p_reorder_ratio(X_products_test)"
      ],
      "execution_count": null,
      "outputs": []
    },
    {
      "cell_type": "code",
      "metadata": {
        "id": "k2lbA0NI6NWZ",
        "colab_type": "code",
        "colab": {}
      },
      "source": [
        "#mean order_hour_of_day\n",
        "def p_order_hour_of_day_mean(df):\n",
        "  return df.groupby('product_id')['order_hour_of_day'].mean().to_frame('p_order_hour_of_day_mean').reset_index()\n",
        "\n",
        "product_features_train['p_order_hour_of_day_mean'] = p_order_hour_of_day_mean(X_products_train)\n",
        "product_features_test['p_order_hour_of_day_mean'] = p_order_hour_of_day_mean(X_products_test)"
      ],
      "execution_count": null,
      "outputs": []
    },
    {
      "cell_type": "code",
      "metadata": {
        "id": "dTn9WMzP6lYQ",
        "colab_type": "code",
        "colab": {}
      },
      "source": [
        "#std order_hour_of_day\n",
        "def p_order_hour_of_day_std(df):\n",
        "  return df.groupby('product_id')['order_hour_of_day'].std().to_frame('p_order_hour_of_day_std').reset_index()\n",
        "  \n",
        "#some products have only been ordered once, so the std is NA, fillNA with 0\n",
        "\n",
        "product_features_train['p_order_hour_of_day_std'] = p_order_hour_of_day_std(X_products_train).fillna(0)\n",
        "product_features_test['p_order_hour_of_day_Std'] = p_order_hour_of_day_std(X_products_test).fillna(0)"
      ],
      "execution_count": null,
      "outputs": []
    },
    {
      "cell_type": "code",
      "metadata": {
        "id": "6ETKvfu_6pQg",
        "colab_type": "code",
        "colab": {}
      },
      "source": [
        "#average order_dow\n",
        "def p_order_dow_mean(df):\n",
        "  return df.groupby('product_id')['order_dow'].mean().to_frame('p_order_dow_mean').reset_index()\n",
        "\n",
        "product_features_train['p_order_dow_mean'] = p_order_dow_mean(X_products_train)\n",
        "product_features_test['p_order_dow_mean'] = p_order_dow_mean(X_products_test)"
      ],
      "execution_count": null,
      "outputs": []
    },
    {
      "cell_type": "code",
      "metadata": {
        "id": "GFG95nDo6z_7",
        "colab_type": "code",
        "colab": {}
      },
      "source": [
        "#std order_dow\n",
        "def p_order_dow_std(df):\n",
        "  return df.groupby('product_id')['order_dow'].std().to_frame('p_order_dow_std').reset_index()\n",
        "\n",
        "#p_order_dow_std_train = p_order_dow_std(X_products_train)\n",
        "#p_order_dow_std_test = p_order_dow_std(X_products_test)\n",
        "\n",
        "product_features_train['p_order_dow_std'] = p_order_dow_std(X_products_train).fillna(0)\n",
        "product_features_test['p_order_dow_std'] = p_order_dow_std(X_products_test).fillna(0)"
      ],
      "execution_count": null,
      "outputs": []
    },
    {
      "cell_type": "code",
      "metadata": {
        "id": "cyk5RIeo7Ce2",
        "colab_type": "code",
        "colab": {}
      },
      "source": [
        "#average add_to_cart_order of each product\n",
        "def p_add_to_cart_order_mean(df):\n",
        "  return df.groupby('product_id')['add_to_cart_order'].mean().to_frame('p_add_to_cart_order_mean').reset_index()\n",
        "\n",
        "product_features_train['p_add_to_cart_order_mean'] = p_add_to_cart_order_mean(X_products_train)\n",
        "product_features_test['p_add_to_cart_order_mean'] = p_add_to_cart_order_mean(X_products_test)"
      ],
      "execution_count": null,
      "outputs": []
    },
    {
      "cell_type": "code",
      "metadata": {
        "id": "UZQnU65g7R4b",
        "colab_type": "code",
        "colab": {}
      },
      "source": [
        "#std of add_to_cart_order of each product\n",
        "def p_add_to_cart_order_std(df):\n",
        "  return df.groupby('product_id')['add_to_cart_order'].std().to_frame('p_add_to_cart_order_std').reset_index()\n",
        "\n",
        "product_features_train['p_add_to_cart_order_std'] = p_add_to_cart_order_std(X_products_train).fillna(0)\n",
        "product_features_test['p_add_to_cart_order_std'] = p_add_to_cart_order_std(X_products_test).fillna(0)"
      ],
      "execution_count": null,
      "outputs": []
    },
    {
      "cell_type": "code",
      "metadata": {
        "id": "SJsGBQuS7ecn",
        "colab_type": "code",
        "colab": {}
      },
      "source": [
        "#average days_between_orders of each product\n",
        "def p_days_between_orders_mean(df):\n",
        "#  return df[~df['days_since_prior_order'].isna()].groupby(['product_id','order_number'])['days_since_prior_order'].agg('min').groupby('product_id').mean().to_frame('p_days_between_orders_mean').reset_index()\n",
        "  return df[~df['days_since_prior_order'].isna()].groupby(['product_id'])['days_since_prior_order'].mean().to_frame('p_days_between_orders_mean').reset_index()\n",
        "\n",
        "#some products have only been ordered in the first order of users, so no days_between_orders_mean, fillna will infinity or longest interval after merge?\n",
        "product_features_train['p_days_between_orders_mean'] = p_days_between_orders_mean(X_products_train).fillna(np.Inf)\n",
        "product_features_test['p_days_between_orders_mean'] = p_days_between_orders_mean(X_products_test).fillna(np.Inf)"
      ],
      "execution_count": null,
      "outputs": []
    },
    {
      "cell_type": "code",
      "metadata": {
        "id": "u0ZeKBqk73E3",
        "colab_type": "code",
        "colab": {}
      },
      "source": [
        "#std of days_between_orders of each product\n",
        "def p_days_between_orders_std(df):\n",
        "  return df[~df['days_since_prior_order'].isna()].groupby(['product_id'])['days_since_prior_order'].std().to_frame('p_days_between_orders_std').reset_index()\n",
        "\n",
        "product_features_train['p_days_between_orders_std'] = p_days_between_orders_std(X_products_train).fillna(0)\n",
        "product_features_test['p_days_between_orders_std'] = p_days_between_orders_std(X_products_train).fillna(0)"
      ],
      "execution_count": null,
      "outputs": []
    },
    {
      "cell_type": "code",
      "metadata": {
        "id": "sagGgE1NwLYp",
        "colab_type": "code",
        "colab": {}
      },
      "source": [
        "#average number of products in the same order of each product and std\n",
        "products_info = X_products_train[['order_id','product_id','add_to_cart_order']].copy(deep=True)\n",
        "order_size = products_info.groupby('order_id')['add_to_cart_order'].max()\n",
        "products_order_size = pd.merge(products_info[['order_id','product_id']],order_size,how='left',on='order_id')\n",
        "\n",
        "product_features_train['p_num_of_products_mean'] = products_order_size.groupby('product_id')['add_to_cart_order'].mean().to_frame('p_num_of_products_mean').reset_index()\n",
        "product_features_train['p_num_of_products_std'] = products_order_size.groupby('product_id')['add_to_cart_order'].std().to_frame('p_num_of_products_std').reset_index().fillna(0)"
      ],
      "execution_count": null,
      "outputs": []
    },
    {
      "cell_type": "code",
      "metadata": {
        "id": "5Zv1n_cpU4Yr",
        "colab_type": "code",
        "colab": {}
      },
      "source": [
        "#average number of products in the same order of each product and std test set\n",
        "products_info_test = X_products_test[['order_id','product_id','add_to_cart_order']].copy(deep=True)\n",
        "order_size_test = products_info_test.groupby('order_id')['add_to_cart_order'].max()\n",
        "products_order_size_test = pd.merge(products_info_test[['order_id','product_id']],order_size_test,how='left',on='order_id')\n",
        "\n",
        "product_features_test['p_num_of_products_mean'] = products_order_size_test.groupby('product_id')['add_to_cart_order'].mean().to_frame('p_num_of_products_mean').reset_index()\n",
        "product_features_test['p_num_of_products_std'] = products_order_size_test.groupby('product_id')['add_to_cart_order'].std().to_frame('p_num_of_products_std').reset_index().fillna(0)"
      ],
      "execution_count": null,
      "outputs": []
    },
    {
      "cell_type": "code",
      "metadata": {
        "id": "q8wb7KW0HhoZ",
        "colab_type": "code",
        "colab": {}
      },
      "source": [
        "df_product_features_train = reduce(lambda  left,right: pd.merge(left,right,on=['product_id'],\n",
        "                                            how='left'), [feature for key, feature in product_features_train.items()])\n",
        "df_product_features_test = reduce(lambda  left,right: pd.merge(left,right,on=['product_id'],\n",
        "                                            how='left'), [feature for key, feature in product_features_test.items()])"
      ],
      "execution_count": null,
      "outputs": []
    },
    {
      "cell_type": "code",
      "metadata": {
        "id": "SGPmdgvzHtDC",
        "colab_type": "code",
        "colab": {
          "base_uri": "https://localhost:8080/",
          "height": 374
        },
        "outputId": "df42d912-9e0d-4c16-bc5e-64b6f0b91d9b"
      },
      "source": [
        "df_product_features_train.head()\n",
        "df_product_features_test.info()"
      ],
      "execution_count": null,
      "outputs": [
        {
          "output_type": "stream",
          "text": [
            "<class 'pandas.core.frame.DataFrame'>\n",
            "Int64Index: 27458 entries, 0 to 27457\n",
            "Data columns (total 14 columns):\n",
            " #   Column                      Non-Null Count  Dtype  \n",
            "---  ------                      --------------  -----  \n",
            " 0   product_id                  27458 non-null  int64  \n",
            " 1   p_num_of_orders             27458 non-null  int64  \n",
            " 2   p_num_of_users              27458 non-null  int64  \n",
            " 3   p_reorder_ratio             27458 non-null  float64\n",
            " 4   p_order_hour_of_day_mean    27458 non-null  float64\n",
            " 5   p_order_hour_of_day_std     27458 non-null  float64\n",
            " 6   p_order_dow_mean            27458 non-null  float64\n",
            " 7   p_order_dow_std             27458 non-null  float64\n",
            " 8   p_add_to_cart_order_mean    27458 non-null  float64\n",
            " 9   p_add_to_cart_order_std     27458 non-null  float64\n",
            " 10  p_days_between_orders_mean  26771 non-null  float16\n",
            " 11  p_days_between_orders_std   25571 non-null  float16\n",
            " 12  p_num_of_products_mean      27458 non-null  float64\n",
            " 13  p_num_of_products_std       27458 non-null  float64\n",
            "dtypes: float16(2), float64(9), int64(3)\n",
            "memory usage: 2.8 MB\n"
          ],
          "name": "stdout"
        }
      ]
    },
    {
      "cell_type": "code",
      "metadata": {
        "id": "QW40w0XkrmmY",
        "colab_type": "code",
        "colab": {
          "base_uri": "https://localhost:8080/",
          "height": 374
        },
        "outputId": "15566518-95d1-4749-e0e9-989492e50319"
      },
      "source": [
        "df_product_features_train['p_days_between_orders_mean'].fillna(np.Inf,inplace=True)\n",
        "df_product_features_test['p_days_between_orders_mean'].fillna(np.Inf,inplace=True)\n",
        "df_product_features_train['p_days_between_orders_std'].fillna(0,inplace=True)\n",
        "df_product_features_test['p_days_between_orders_std'].fillna(0,inplace=True)\n",
        "df_product_features_train.info()"
      ],
      "execution_count": null,
      "outputs": [
        {
          "output_type": "stream",
          "text": [
            "<class 'pandas.core.frame.DataFrame'>\n",
            "Int64Index: 40029 entries, 0 to 40028\n",
            "Data columns (total 14 columns):\n",
            " #   Column                      Non-Null Count  Dtype  \n",
            "---  ------                      --------------  -----  \n",
            " 0   product_id                  40029 non-null  int64  \n",
            " 1   p_num_of_orders             40029 non-null  int64  \n",
            " 2   p_num_of_users              40029 non-null  int64  \n",
            " 3   p_reorder_ratio             40029 non-null  float64\n",
            " 4   p_order_hour_of_day_mean    40029 non-null  float64\n",
            " 5   p_order_hour_of_day_std     40029 non-null  float64\n",
            " 6   p_order_dow_mean            40029 non-null  float64\n",
            " 7   p_order_dow_std             40029 non-null  float64\n",
            " 8   p_add_to_cart_order_mean    40029 non-null  float64\n",
            " 9   p_add_to_cart_order_std     40029 non-null  float64\n",
            " 10  p_days_between_orders_mean  40029 non-null  float16\n",
            " 11  p_days_between_orders_std   40029 non-null  float16\n",
            " 12  p_num_of_products_mean      40029 non-null  float64\n",
            " 13  p_num_of_products_std       40029 non-null  float64\n",
            "dtypes: float16(2), float64(9), int64(3)\n",
            "memory usage: 4.1 MB\n"
          ],
          "name": "stdout"
        }
      ]
    },
    {
      "cell_type": "code",
      "metadata": {
        "id": "80qINieNsE-4",
        "colab_type": "code",
        "colab": {}
      },
      "source": [
        "# save to csv and upload to google drive\n",
        "df_product_features_train.to_csv('product_features_train.csv')\n",
        "df_product_features_test.to_csv('product_features_test.csv')"
      ],
      "execution_count": null,
      "outputs": []
    },
    {
      "cell_type": "code",
      "metadata": {
        "id": "-OIdDL4xsgWI",
        "colab_type": "code",
        "colab": {}
      },
      "source": [
        "!cp product_features_train.csv \"drive/My Drive//Colab Notebooks/data/\"\n",
        "!cp product_features_test.csv \"drive/My Drive//Colab Notebooks/data/\""
      ],
      "execution_count": null,
      "outputs": []
    },
    {
      "cell_type": "markdown",
      "metadata": {
        "id": "OGG15YAyIO5H",
        "colab_type": "text"
      },
      "source": [
        "# **User** **X** **Product** **feature**"
      ]
    },
    {
      "cell_type": "code",
      "metadata": {
        "id": "7HnfMm5qNGQx",
        "colab_type": "code",
        "colab": {}
      },
      "source": [
        "# store user product interaction features in dictionary\n",
        "UxP_features_train = {}\n",
        "UxP_features_test = {}"
      ],
      "execution_count": null,
      "outputs": []
    },
    {
      "cell_type": "code",
      "metadata": {
        "id": "NhJwuj23IXX9",
        "colab_type": "code",
        "colab": {}
      },
      "source": [
        "#number of times the user has purchased the product\n",
        "def UxP_num_of_orders(df):\n",
        "  return df.groupby(['user_id','product_id'])['order_id'].count().to_frame('UxP_num_of_orders').reset_index()\n",
        "\n",
        "UxP_features_train['UxP_num_of_orders'] = UxP_num_of_orders(X_products_train)\n",
        "UxP_features_test['UxP_num_of_orders'] = UxP_num_of_orders(X_products_test)"
      ],
      "execution_count": null,
      "outputs": []
    },
    {
      "cell_type": "code",
      "metadata": {
        "id": "JjFZkBLFPXcE",
        "colab_type": "code",
        "colab": {}
      },
      "source": [
        "#proportion of orders the user purchased the product\n",
        "#UxP_num_of_orders/U_num_of_orders\n",
        "\n",
        "UxP_order_ratio_train = pd.merge(UxP_features_train['UxP_num_of_orders'],user_features_train['num_of_orders'],how = 'left',on='user_id')\n",
        "UxP_order_ratio_train['UxP_order_ratio'] = UxP_order_ratio_train['UxP_num_of_orders']/UxP_order_ratio_train['u_num_of_orders']\n",
        "UxP_order_ratio_train.drop(['u_num_of_orders','UxP_num_of_orders'],axis=1,inplace=True) \n",
        "\n",
        "UxP_order_ratio_test = pd.merge(UxP_features_test['UxP_num_of_orders'],user_features_test['num_of_orders'],how = 'left',on='user_id')\n",
        "UxP_order_ratio_test['UxP_order_ratio'] = UxP_order_ratio_test['UxP_num_of_orders']/UxP_order_ratio_test['u_num_of_orders']\n",
        "UxP_order_ratio_test.drop(['u_num_of_orders','UxP_num_of_orders'],axis=1,inplace=True)\n",
        "\n",
        "UxP_features_train['UxP_order_ratio'] = UxP_order_ratio_train\n",
        "UxP_features_test['UxP_order_ratio'] = UxP_order_ratio_test"
      ],
      "execution_count": null,
      "outputs": []
    },
    {
      "cell_type": "code",
      "metadata": {
        "id": "FxBVkVbTvnuc",
        "colab_type": "code",
        "colab": {}
      },
      "source": [
        "#number of orders since last purchase of the product\n",
        "UxP_orders_since_last_order_train = X_products_train.groupby(['user_id'])['order_number'].max()-X_products_train.groupby(['user_id', 'product_id'])['order_number'].max()+1\n",
        "UxP_orders_since_last_order_test = X_products_test.groupby(['user_id'])['order_number'].max()-X_products_test.groupby(['user_id', 'product_id'])['order_number'].max()+1\n",
        "\n",
        "UxP_features_train['UxP_orders_since_last'] = UxP_orders_since_last_order_train.to_frame('UxP_orders_since_last').reset_index()\n",
        "UxP_features_test['UxP_orders_since_last'] = UxP_orders_since_last_order_test.to_frame('UxP_orders_since_last').reset_index()"
      ],
      "execution_count": null,
      "outputs": []
    },
    {
      "cell_type": "code",
      "metadata": {
        "id": "WjZRQqNq0paV",
        "colab_type": "code",
        "colab": {}
      },
      "source": [
        "#number of orders since last purchase of the product/u_num_of_orders\n",
        "\n",
        "UxP_orders_since_last_ratio_train = pd.merge(UxP_features_train['UxP_orders_since_last'],user_features_train['num_of_orders'],how = 'left',on='user_id')\n",
        "UxP_orders_since_last_ratio_train['UxP_orders_since_last_ratio'] = UxP_orders_since_last_ratio_train['UxP_orders_since_last']/UxP_orders_since_last_ratio_train['u_num_of_orders']\n",
        "UxP_orders_since_last_ratio_train.drop(['u_num_of_orders','UxP_orders_since_last'],axis=1,inplace=True) \n",
        "\n",
        "UxP_orders_since_last_ratio_test = pd.merge(UxP_features_test['UxP_orders_since_last'],user_features_test['num_of_orders'],how = 'left',on='user_id')\n",
        "UxP_orders_since_last_ratio_test['UxP_orders_since_last_ratio'] = UxP_orders_since_last_ratio_test['UxP_orders_since_last']/UxP_orders_since_last_ratio_test['u_num_of_orders']\n",
        "UxP_orders_since_last_ratio_test.drop(['u_num_of_orders','UxP_orders_since_last'],axis=1,inplace=True) \n",
        "\n",
        "UxP_features_train['UxP_orders_since_last_ratio'] = UxP_orders_since_last_ratio_train\n",
        "UxP_features_test['UxP_orders_since_last_ratio'] = UxP_orders_since_last_ratio_test"
      ],
      "execution_count": null,
      "outputs": []
    },
    {
      "cell_type": "code",
      "metadata": {
        "id": "SMutneTwOMvL",
        "colab_type": "code",
        "colab": {}
      },
      "source": [
        "#whether the product was reordered by user before\n",
        "def UxP_reordered(df):\n",
        "  return df.groupby(['user_id','product_id'])['reordered'].agg('max').to_frame('UxP_reordered').reset_index()\n",
        "\n",
        "UxP_reordered_train = UxP_reordered(X_products_train)\n",
        "UxP_reordered_test = UxP_reordered(X_products_test)\n",
        "\n",
        "UxP_features_train['UxP_reordered'] = UxP_reordered_train\n",
        "UxP_features_test['UxP_reordered'] = UxP_reordered_test"
      ],
      "execution_count": null,
      "outputs": []
    },
    {
      "cell_type": "code",
      "metadata": {
        "id": "R1O4Q_1nQ-oA",
        "colab_type": "code",
        "colab": {}
      },
      "source": [
        "#average order_dow the user purchased the product\n",
        "def UxP_order_dow_mean(df):\n",
        "  return df.groupby(['user_id','product_id'])['order_dow'].mean().to_frame('UxP_order_dow_mean').reset_index()\n",
        "\n",
        "UxP_order_dow_mean_train = UxP_order_dow_mean(X_products_train)\n",
        "UxP_order_dow_mean_test = UxP_order_dow_mean(X_products_test)\n",
        "\n",
        "UxP_features_train['UxP_order_dow_mean'] = UxP_order_dow_mean_train\n",
        "UxP_features_test['UxP_order_dow_mean'] = UxP_order_dow_mean_test"
      ],
      "execution_count": null,
      "outputs": []
    },
    {
      "cell_type": "code",
      "metadata": {
        "id": "DIvyCqGDSkIZ",
        "colab_type": "code",
        "colab": {}
      },
      "source": [
        "#UxP_order_dow_std\n",
        "def UxP_order_dow_std(df):\n",
        "  return df.groupby(['user_id','product_id'])['order_dow'].std().to_frame('UxP_order_dow_std').reset_index()\n",
        "\n",
        "UxP_order_dow_std_train = UxP_order_dow_std(X_products_train).fillna(0)\n",
        "UxP_order_dow_std_test = UxP_order_dow_std(X_products_test).fillna(0)\n",
        "\n",
        "UxP_features_train['UxP_order_dow_std'] = UxP_order_dow_std_train\n",
        "UxP_features_test['UxP_order_dow_std'] = UxP_order_dow_std_test"
      ],
      "execution_count": null,
      "outputs": []
    },
    {
      "cell_type": "code",
      "metadata": {
        "id": "CO92MsH6SA30",
        "colab_type": "code",
        "colab": {}
      },
      "source": [
        "#UxP_order_hour_of_day_mean\n",
        "def UxP_order_hour_of_day_mean(df):\n",
        "  return df.groupby(['user_id','product_id'])['order_hour_of_day'].mean().to_frame('UxP_order_hour_of_day_mean').reset_index()\n",
        "\n",
        "UxP_order_hour_of_day_mean_train = UxP_order_hour_of_day_mean(X_products_train)\n",
        "UxP_order_hour_of_day_mean_test = UxP_order_hour_of_day_mean(X_products_test)\n",
        "\n",
        "UxP_features_train['UxP_order_hour_of_day_mean'] = UxP_order_hour_of_day_mean_train\n",
        "UxP_features_test['UxP_order_hour_of_day_mean'] = UxP_order_hour_of_day_mean_test"
      ],
      "execution_count": null,
      "outputs": []
    },
    {
      "cell_type": "code",
      "metadata": {
        "id": "c0CeabdUSVuO",
        "colab_type": "code",
        "colab": {}
      },
      "source": [
        "#UxP_order_hour_of_day_std\n",
        "def UxP_order_hour_of_day_std(df):\n",
        "  return df.groupby(['user_id','product_id'])['order_hour_of_day'].std().to_frame('UxP_order_hour_of_day_std').reset_index()\n",
        "\n",
        "UxP_order_hour_of_day_std_train = UxP_order_hour_of_day_std(X_products_train).fillna(0)\n",
        "UxP_order_hour_of_day_std_test = UxP_order_hour_of_day_std(X_products_test).fillna(0)\n",
        "\n",
        "UxP_features_train['UxP_order_hour_of_day_std'] = UxP_order_hour_of_day_std_train\n",
        "UxP_features_test['UxP_order_hour_of_day_std'] = UxP_order_hour_of_day_std_test"
      ],
      "execution_count": null,
      "outputs": []
    },
    {
      "cell_type": "code",
      "metadata": {
        "id": "615Bw1OZSsBv",
        "colab_type": "code",
        "colab": {}
      },
      "source": [
        "#UxP_add_to_cart_order_mean\n",
        "def UxP_add_to_cart_order_mean(df):\n",
        "  return df.groupby(['user_id','product_id'])['add_to_cart_order'].mean().to_frame('UxP_add_to_cart_order_mean').reset_index()\n",
        "\n",
        "UxP_add_to_cart_order_mean_train = UxP_add_to_cart_order_mean(X_products_train)\n",
        "UxP_add_to_cart_order_mean_test = UxP_add_to_cart_order_mean(X_products_test)\n",
        "\n",
        "UxP_features_train['UxP_add_to_cart_order_mean'] = UxP_add_to_cart_order_mean_train\n",
        "UxP_features_test['UxP_add_to_cart_order_mean'] = UxP_add_to_cart_order_mean_test"
      ],
      "execution_count": null,
      "outputs": []
    },
    {
      "cell_type": "code",
      "metadata": {
        "id": "oT0eMRPzTDFt",
        "colab_type": "code",
        "colab": {}
      },
      "source": [
        "#UxP_add_to_cart_order_std\n",
        "def UxP_add_to_cart_order_std(df):\n",
        "  return df.groupby(['user_id','product_id'])['add_to_cart_order'].std().to_frame('UxP_add_to_cart_order_std').reset_index()\n",
        "\n",
        "UxP_add_to_cart_order_std_train = UxP_add_to_cart_order_std(X_products_train).fillna(0)\n",
        "UxP_add_to_cart_order_std_test = UxP_add_to_cart_order_std(X_products_test).fillna(0)\n",
        "\n",
        "UxP_features_train['UxP_add_to_cart_order_std'] = UxP_add_to_cart_order_std_train\n",
        "UxP_features_test['UxP_add_to_cart_order_std'] = UxP_add_to_cart_order_std_test"
      ],
      "execution_count": null,
      "outputs": []
    },
    {
      "cell_type": "code",
      "metadata": {
        "id": "-H6hT7Ef-2dg",
        "colab_type": "code",
        "colab": {}
      },
      "source": [
        "#UxP last order\n",
        "def UxP_last_order(df):\n",
        "  return df.groupby(['user_id','product_id'])['order_number'].max().to_frame('UxP_last_order').reset_index()\n",
        "\n",
        "UxP_last_order_train = UxP_last_order(X_products_train)\n",
        "UxP_last_order_test = UxP_last_order(X_products_test)\n",
        "\n",
        "UxP_features_train['UxP_last_order_train'] = UxP_last_order_train\n",
        "UxP_features_test['UxP_last_order_test'] = UxP_last_order_test"
      ],
      "execution_count": null,
      "outputs": []
    },
    {
      "cell_type": "code",
      "metadata": {
        "id": "QopAZiuO_G6b",
        "colab_type": "code",
        "colab": {}
      },
      "source": [
        "#UxP last order ratio\n",
        "\n",
        "UxP_last_order_ratio_train = pd.merge(UxP_last_order_train,user_features_train['num_of_orders'],how = 'left',on='user_id')\n",
        "UxP_last_order_ratio_train['UxP_last_order_ratio'] = UxP_last_order_ratio_train['UxP_last_order']/UxP_last_order_ratio_train['u_num_of_orders']\n",
        "UxP_last_order_ratio_train.drop(['u_num_of_orders','UxP_last_order'],axis=1,inplace=True) \n",
        "\n",
        "UxP_last_order_ratio_test = pd.merge(UxP_last_order_test,user_features_test['num_of_orders'],how = 'left',on='user_id')\n",
        "UxP_last_order_ratio_test['UxP_last_order_ratio'] = UxP_last_order_ratio_test['UxP_last_order']/UxP_last_order_ratio_test['u_num_of_orders']\n",
        "UxP_last_order_ratio_test.drop(['u_num_of_orders','UxP_last_order'],axis=1,inplace=True)\n",
        "\n",
        "UxP_features_train['UxP_last_order_ratio'] = UxP_last_order_ratio_train\n",
        "UxP_features_test['UxP_last_order_ratio'] = UxP_last_order_ratio_test"
      ],
      "execution_count": null,
      "outputs": []
    },
    {
      "cell_type": "code",
      "metadata": {
        "id": "KfVCZQn0jNC5",
        "colab_type": "code",
        "colab": {}
      },
      "source": [
        "df_UxP_features_train = reduce(lambda  left,right: pd.merge(left,right,on=['user_id','product_id'],\n",
        "                                            how='left'), [feature for key, feature in UxP_features_train.items()])"
      ],
      "execution_count": null,
      "outputs": []
    },
    {
      "cell_type": "code",
      "metadata": {
        "id": "jzhdYqVvsGSc",
        "colab_type": "code",
        "colab": {}
      },
      "source": [
        "df_UxP_features_train.to_csv('UxP_features_train.csv')\n",
        "!cp UxP_features_train.csv \"drive/My Drive//Colab Notebooks/data/\""
      ],
      "execution_count": null,
      "outputs": []
    },
    {
      "cell_type": "code",
      "metadata": {
        "id": "THhzjctOosMJ",
        "colab_type": "code",
        "colab": {}
      },
      "source": [
        "df_UxP_features_test = reduce(lambda  left,right: pd.merge(left,right,on=['user_id','product_id'],\n",
        "                                            how='left'), [feature for key, feature in UxP_features_test.items()])"
      ],
      "execution_count": null,
      "outputs": []
    },
    {
      "cell_type": "code",
      "metadata": {
        "id": "95hT03lJsPIH",
        "colab_type": "code",
        "colab": {}
      },
      "source": [
        "df_UxP_features_test.to_csv('UxP_features_test.csv')\n",
        "!cp UxP_features_test.csv \"drive/My Drive//Colab Notebooks/data/\""
      ],
      "execution_count": null,
      "outputs": []
    },
    {
      "cell_type": "markdown",
      "metadata": {
        "id": "45aNyoZIUDBn",
        "colab_type": "text"
      },
      "source": [
        "#last order feature"
      ]
    },
    {
      "cell_type": "code",
      "metadata": {
        "id": "zlzk3UtFUIrx",
        "colab_type": "code",
        "colab": {}
      },
      "source": [
        "last_order_features = orders[orders['eval_set'] == 'train']\n",
        "\n",
        "df_last_order_train = last_order_features[last_order_features['user_id'].isin(user_id_train)][['user_id','order_dow','order_hour_of_day','days_since_prior_order']]\n",
        "df_last_order_test = last_order_features[last_order_features['user_id'].isin(user_id_test)][['user_id','order_dow','order_hour_of_day','days_since_prior_order']]"
      ],
      "execution_count": null,
      "outputs": []
    },
    {
      "cell_type": "code",
      "metadata": {
        "id": "kX4dcCv3ZvRO",
        "colab_type": "code",
        "colab": {}
      },
      "source": [
        "df_last_order_train.rename(columns={'order_dow':'LO_dow','order_hour_of_day':'LO_hour_of_day','days_since_prior_order':'LO_days_since_prior_order'},inplace=True)\n",
        "df_last_order_test.rename(columns={'order_dow':'LO_dow','order_hour_of_day':'LO_hour_of_day','days_since_prior_order':'LO_days_since_prior_order'},inplace=True)"
      ],
      "execution_count": null,
      "outputs": []
    },
    {
      "cell_type": "code",
      "metadata": {
        "id": "paI6jngbgjiP",
        "colab_type": "code",
        "colab": {}
      },
      "source": [
        "# save to csv and upload to google drive\n",
        "df_last_order_train.to_csv('last_order_train.csv')\n",
        "!cp last_order_train.csv \"drive/My Drive//Colab Notebooks/data/\""
      ],
      "execution_count": null,
      "outputs": []
    },
    {
      "cell_type": "code",
      "metadata": {
        "id": "rXis6b_dhAuh",
        "colab_type": "code",
        "colab": {}
      },
      "source": [
        "# save to csv and upload to google drive\n",
        "df_last_order_test.to_csv('last_order_test.csv')\n",
        "!cp last_order_test.csv \"drive/My Drive//Colab Notebooks/data/\""
      ],
      "execution_count": null,
      "outputs": []
    },
    {
      "cell_type": "markdown",
      "metadata": {
        "id": "MFj0TuGZMVh6",
        "colab_type": "text"
      },
      "source": [
        "# **Merge features**"
      ]
    },
    {
      "cell_type": "code",
      "metadata": {
        "id": "lgW4h9xCMUnP",
        "colab_type": "code",
        "colab": {}
      },
      "source": [
        "# merge features for training\n",
        "df_features_train = pd.merge(df_UxP_features_train,df_user_features_train,how='left',on='user_id')\n",
        "df_features_train = pd.merge(df_features_train,df_product_features_train,how='left',on='product_id')\n",
        "df_features_train = pd.merge(df_features_train,df_last_order_train,how='left',on='user_id')"
      ],
      "execution_count": null,
      "outputs": []
    },
    {
      "cell_type": "code",
      "metadata": {
        "id": "BfE_gE6yM6Di",
        "colab_type": "code",
        "colab": {}
      },
      "source": [
        "#merge features for testing\n",
        "df_features_test = pd.merge(df_UxP_features_test,df_user_features_test,how='left',on='user_id')\n",
        "df_features_test = pd.merge(df_features_test,df_product_features_test,how='left',on='product_id')\n",
        "df_features_test = pd.merge(df_features_test,df_last_order_test,how='left',on='user_id')"
      ],
      "execution_count": null,
      "outputs": []
    },
    {
      "cell_type": "markdown",
      "metadata": {
        "id": "febG3k-XQDe8",
        "colab_type": "text"
      },
      "source": [
        "# **Merge features and target**"
      ]
    },
    {
      "cell_type": "code",
      "metadata": {
        "id": "bSD0od5sQ3p5",
        "colab_type": "code",
        "colab": {}
      },
      "source": [
        "data_train = pd.merge(df_features_train,y_train_merge,how='left',on=['user_id','product_id'])"
      ],
      "execution_count": null,
      "outputs": []
    },
    {
      "cell_type": "code",
      "metadata": {
        "id": "_4TGFz1xPp5m",
        "colab_type": "code",
        "colab": {}
      },
      "source": [
        "data_test = pd.merge(df_features_test,y_test_merge,how='left',on=['user_id','product_id'])"
      ],
      "execution_count": null,
      "outputs": []
    },
    {
      "cell_type": "code",
      "metadata": {
        "id": "KiATESY4NAUT",
        "colab_type": "code",
        "colab": {}
      },
      "source": [
        "# save to csv and upload to google drive\n",
        "data_train.to_csv('data_train.csv')\n",
        "!cp data_train.csv \"drive/My Drive//Colab Notebooks/data/\""
      ],
      "execution_count": null,
      "outputs": []
    },
    {
      "cell_type": "code",
      "metadata": {
        "id": "Yjnf-Q4UNZd6",
        "colab_type": "code",
        "colab": {}
      },
      "source": [
        "# save to csv and upload to google drive\n",
        "data_test.to_csv('data_test.csv')\n",
        "!cp data_test.csv \"drive/My Drive//Colab Notebooks/data/\""
      ],
      "execution_count": null,
      "outputs": []
    }
  ]
}